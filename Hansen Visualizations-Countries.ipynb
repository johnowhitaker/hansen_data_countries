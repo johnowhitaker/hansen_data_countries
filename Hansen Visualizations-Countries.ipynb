{
 "cells": [
  {
   "cell_type": "code",
   "execution_count": 1,
   "metadata": {},
   "outputs": [],
   "source": [
    "import pandas as pd\n",
    "import numpy as np\n",
    "from matplotlib import pyplot as plt\n",
    "import matplotlib\n",
    "matplotlib.rcParams['figure.figsize'] = [18, 8]"
   ]
  },
  {
   "cell_type": "code",
   "execution_count": 2,
   "metadata": {},
   "outputs": [
    {
     "data": {
      "text/html": [
       "<div>\n",
       "<style scoped>\n",
       "    .dataframe tbody tr th:only-of-type {\n",
       "        vertical-align: middle;\n",
       "    }\n",
       "\n",
       "    .dataframe tbody tr th {\n",
       "        vertical-align: top;\n",
       "    }\n",
       "\n",
       "    .dataframe thead th {\n",
       "        text-align: right;\n",
       "    }\n",
       "</style>\n",
       "<table border=\"1\" class=\"dataframe\">\n",
       "  <thead>\n",
       "    <tr style=\"text-align: right;\">\n",
       "      <th></th>\n",
       "      <th>system:index</th>\n",
       "      <th>Group 0</th>\n",
       "      <th>Group 1</th>\n",
       "      <th>Group 10</th>\n",
       "      <th>Group 11</th>\n",
       "      <th>Group 12</th>\n",
       "      <th>Group 13</th>\n",
       "      <th>Group 14</th>\n",
       "      <th>Group 15</th>\n",
       "      <th>Group 16</th>\n",
       "      <th>...</th>\n",
       "      <th>Group 8</th>\n",
       "      <th>Group 9</th>\n",
       "      <th>abbreviati</th>\n",
       "      <th>areaHa</th>\n",
       "      <th>country_co</th>\n",
       "      <th>country_na</th>\n",
       "      <th>cover_2000</th>\n",
       "      <th>loss</th>\n",
       "      <th>wld_rgn</th>\n",
       "      <th>.geo</th>\n",
       "    </tr>\n",
       "  </thead>\n",
       "  <tbody>\n",
       "    <tr>\n",
       "      <th>0</th>\n",
       "      <td>00004c7d3a0cf374ed9c</td>\n",
       "      <td>6.945949e+11</td>\n",
       "      <td>1.272781e+10</td>\n",
       "      <td>1.254054e+10</td>\n",
       "      <td>9.340903e+09</td>\n",
       "      <td>1.528055e+10</td>\n",
       "      <td>9.199654e+09</td>\n",
       "      <td>1.287880e+10</td>\n",
       "      <td>1.232254e+10</td>\n",
       "      <td>3.249156e+10</td>\n",
       "      <td>...</td>\n",
       "      <td>1.121127e+10</td>\n",
       "      <td>7.693337e+09</td>\n",
       "      <td>Braz.</td>\n",
       "      <td>8.503009e+08</td>\n",
       "      <td>BR</td>\n",
       "      <td>Brazil</td>\n",
       "      <td>4.855871e+08</td>\n",
       "      <td>1.007631e+06</td>\n",
       "      <td>South America</td>\n",
       "      <td>{\"type\":\"Point\",\"coordinates\":[-53.20696469939...</td>\n",
       "    </tr>\n",
       "    <tr>\n",
       "      <th>1</th>\n",
       "      <td>0000a01d5cf3b1af9638</td>\n",
       "      <td>NaN</td>\n",
       "      <td>NaN</td>\n",
       "      <td>NaN</td>\n",
       "      <td>NaN</td>\n",
       "      <td>NaN</td>\n",
       "      <td>NaN</td>\n",
       "      <td>NaN</td>\n",
       "      <td>NaN</td>\n",
       "      <td>NaN</td>\n",
       "      <td>...</td>\n",
       "      <td>NaN</td>\n",
       "      <td>NaN</td>\n",
       "      <td>St. Hel.</td>\n",
       "      <td>4.106053e+04</td>\n",
       "      <td>SH</td>\n",
       "      <td>St Helena</td>\n",
       "      <td>0.000000e+00</td>\n",
       "      <td>0.000000e+00</td>\n",
       "      <td>S Atlantic</td>\n",
       "      <td>{\"type\":\"Point\",\"coordinates\":[-10.30162810304...</td>\n",
       "    </tr>\n",
       "    <tr>\n",
       "      <th>2</th>\n",
       "      <td>00000e14d12fd90415c8</td>\n",
       "      <td>0.000000e+00</td>\n",
       "      <td>NaN</td>\n",
       "      <td>NaN</td>\n",
       "      <td>NaN</td>\n",
       "      <td>NaN</td>\n",
       "      <td>NaN</td>\n",
       "      <td>NaN</td>\n",
       "      <td>NaN</td>\n",
       "      <td>NaN</td>\n",
       "      <td>...</td>\n",
       "      <td>NaN</td>\n",
       "      <td>NaN</td>\n",
       "      <td>C. Ver.</td>\n",
       "      <td>4.077450e+05</td>\n",
       "      <td>CV</td>\n",
       "      <td>Cabo Verde</td>\n",
       "      <td>5.918667e+03</td>\n",
       "      <td>0.000000e+00</td>\n",
       "      <td>Africa</td>\n",
       "      <td>{\"type\":\"Point\",\"coordinates\":[-23.97126829803...</td>\n",
       "    </tr>\n",
       "    <tr>\n",
       "      <th>3</th>\n",
       "      <td>0000106f6b355e184fdb</td>\n",
       "      <td>NaN</td>\n",
       "      <td>NaN</td>\n",
       "      <td>NaN</td>\n",
       "      <td>NaN</td>\n",
       "      <td>NaN</td>\n",
       "      <td>NaN</td>\n",
       "      <td>NaN</td>\n",
       "      <td>NaN</td>\n",
       "      <td>NaN</td>\n",
       "      <td>...</td>\n",
       "      <td>NaN</td>\n",
       "      <td>NaN</td>\n",
       "      <td>Port.</td>\n",
       "      <td>2.373741e+05</td>\n",
       "      <td>PO</td>\n",
       "      <td>Portugal (Azores)</td>\n",
       "      <td>0.000000e+00</td>\n",
       "      <td>0.000000e+00</td>\n",
       "      <td>Europe</td>\n",
       "      <td>{\"type\":\"Point\",\"coordinates\":[-27.23196803177...</td>\n",
       "    </tr>\n",
       "    <tr>\n",
       "      <th>4</th>\n",
       "      <td>00001fb0344a7bbdbec4</td>\n",
       "      <td>0.000000e+00</td>\n",
       "      <td>NaN</td>\n",
       "      <td>NaN</td>\n",
       "      <td>NaN</td>\n",
       "      <td>NaN</td>\n",
       "      <td>NaN</td>\n",
       "      <td>NaN</td>\n",
       "      <td>NaN</td>\n",
       "      <td>NaN</td>\n",
       "      <td>...</td>\n",
       "      <td>NaN</td>\n",
       "      <td>NaN</td>\n",
       "      <td>W. Sah.</td>\n",
       "      <td>2.696886e+07</td>\n",
       "      <td>WI</td>\n",
       "      <td>Western Sahara</td>\n",
       "      <td>0.000000e+00</td>\n",
       "      <td>0.000000e+00</td>\n",
       "      <td>Africa</td>\n",
       "      <td>{\"type\":\"Point\",\"coordinates\":[-13.18050049587...</td>\n",
       "    </tr>\n",
       "  </tbody>\n",
       "</table>\n",
       "<p>5 rows × 28 columns</p>\n",
       "</div>"
      ],
      "text/plain": [
       "           system:index       Group 0       Group 1      Group 10  \\\n",
       "0  00004c7d3a0cf374ed9c  6.945949e+11  1.272781e+10  1.254054e+10   \n",
       "1  0000a01d5cf3b1af9638           NaN           NaN           NaN   \n",
       "2  00000e14d12fd90415c8  0.000000e+00           NaN           NaN   \n",
       "3  0000106f6b355e184fdb           NaN           NaN           NaN   \n",
       "4  00001fb0344a7bbdbec4  0.000000e+00           NaN           NaN   \n",
       "\n",
       "       Group 11      Group 12      Group 13      Group 14      Group 15  \\\n",
       "0  9.340903e+09  1.528055e+10  9.199654e+09  1.287880e+10  1.232254e+10   \n",
       "1           NaN           NaN           NaN           NaN           NaN   \n",
       "2           NaN           NaN           NaN           NaN           NaN   \n",
       "3           NaN           NaN           NaN           NaN           NaN   \n",
       "4           NaN           NaN           NaN           NaN           NaN   \n",
       "\n",
       "       Group 16  ...       Group 8       Group 9  abbreviati        areaHa  \\\n",
       "0  3.249156e+10  ...  1.121127e+10  7.693337e+09       Braz.  8.503009e+08   \n",
       "1           NaN  ...           NaN           NaN    St. Hel.  4.106053e+04   \n",
       "2           NaN  ...           NaN           NaN     C. Ver.  4.077450e+05   \n",
       "3           NaN  ...           NaN           NaN       Port.  2.373741e+05   \n",
       "4           NaN  ...           NaN           NaN     W. Sah.  2.696886e+07   \n",
       "\n",
       "   country_co         country_na    cover_2000          loss        wld_rgn  \\\n",
       "0          BR             Brazil  4.855871e+08  1.007631e+06  South America   \n",
       "1          SH          St Helena  0.000000e+00  0.000000e+00     S Atlantic   \n",
       "2          CV         Cabo Verde  5.918667e+03  0.000000e+00         Africa   \n",
       "3          PO  Portugal (Azores)  0.000000e+00  0.000000e+00         Europe   \n",
       "4          WI     Western Sahara  0.000000e+00  0.000000e+00         Africa   \n",
       "\n",
       "                                                .geo  \n",
       "0  {\"type\":\"Point\",\"coordinates\":[-53.20696469939...  \n",
       "1  {\"type\":\"Point\",\"coordinates\":[-10.30162810304...  \n",
       "2  {\"type\":\"Point\",\"coordinates\":[-23.97126829803...  \n",
       "3  {\"type\":\"Point\",\"coordinates\":[-27.23196803177...  \n",
       "4  {\"type\":\"Point\",\"coordinates\":[-13.18050049587...  \n",
       "\n",
       "[5 rows x 28 columns]"
      ]
     },
     "execution_count": 2,
     "metadata": {},
     "output_type": "execute_result"
    }
   ],
   "source": [
    "df = pd.read_csv('Countries_with_hansen_centroids.csv')\n",
    "df.head()"
   ]
  },
  {
   "cell_type": "code",
   "execution_count": 3,
   "metadata": {},
   "outputs": [
    {
     "data": {
      "text/plain": [
       "Index(['system:index', 'Group 0', 'Group 1', 'Group 10', 'Group 11',\n",
       "       'Group 12', 'Group 13', 'Group 14', 'Group 15', 'Group 16', 'Group 17',\n",
       "       'Group 18', 'Group 2', 'Group 3', 'Group 4', 'Group 5', 'Group 6',\n",
       "       'Group 7', 'Group 8', 'Group 9', 'abbreviati', 'areaHa', 'country_co',\n",
       "       'country_na', 'cover_2000', 'loss', 'wld_rgn', '.geo'],\n",
       "      dtype='object')"
      ]
     },
     "execution_count": 3,
     "metadata": {},
     "output_type": "execute_result"
    }
   ],
   "source": [
    "df.columns"
   ]
  },
  {
   "cell_type": "code",
   "execution_count": 4,
   "metadata": {},
   "outputs": [],
   "source": [
    "df = df.fillna(0)"
   ]
  },
  {
   "cell_type": "code",
   "execution_count": 5,
   "metadata": {},
   "outputs": [
    {
     "data": {
      "image/png": "[encoded data removed]",
      "text/plain": [
       "<Figure size 432x288 with 1 Axes>"
      ]
     },
     "metadata": {
      "needs_background": "light"
     },
     "output_type": "display_data"
    }
   ],
   "source": [
    "df.groupby('wld_rgn').sum().plot(kind='bar', y='loss')\n",
    "plt.savefig('loss_per_continent.png')"
   ]
  },
  {
   "cell_type": "code",
   "execution_count": 6,
   "metadata": {},
   "outputs": [
    {
     "data": {
      "text/plain": [
       "Text(0.5, 1.0, 'Loss per year')"
      ]
     },
     "execution_count": 6,
     "metadata": {},
     "output_type": "execute_result"
    },
    {
     "data": {
      "image/png": "[encoded data removed]",
      "text/plain": [
       "<Figure size 432x288 with 1 Axes>"
      ]
     },
     "metadata": {
      "needs_background": "light"
     },
     "output_type": "display_data"
    }
   ],
   "source": [
    "groups = [i+1 for i in range(18)]\n",
    "plt.plot([g + 2000 for g in groups], df[['Group '+str(i) for i in groups]].sum().values)\n",
    "plt.title('Loss per year')"
   ]
  },
  {
   "cell_type": "code",
   "execution_count": 7,
   "metadata": {},
   "outputs": [
    {
     "data": {
      "text/plain": [
       "[<matplotlib.lines.Line2D at 0x7f15116f7198>]"
      ]
     },
     "execution_count": 7,
     "metadata": {},
     "output_type": "execute_result"
    },
    {
     "data": {
      "image/png": "[encoded data removed]",
      "text/plain": [
       "<Figure size 432x288 with 1 Axes>"
      ]
     },
     "metadata": {
      "needs_background": "light"
     },
     "output_type": "display_data"
    }
   ],
   "source": [
    "africa = df.loc[df['wld_rgn'] == 'Africa']\n",
    "plt.plot([g + 2000 for g in groups], africa[['Group '+str(i) for i in groups]].sum().values)"
   ]
  },
  {
   "cell_type": "code",
   "execution_count": null,
   "metadata": {},
   "outputs": [],
   "source": []
  }
 ],
 "metadata": {
  "kernelspec": {
   "display_name": "Python 3",
   "language": "python",
   "name": "python3"
  },
  "language_info": {
   "codemirror_mode": {
    "name": "ipython",
    "version": 3
   },
   "file_extension": ".py",
   "mimetype": "text/x-python",
   "name": "python",
   "nbconvert_exporter": "python",
   "pygments_lexer": "ipython3",
   "version": "3.7.3"
  }
 },
 "nbformat": 4,
 "nbformat_minor": 2
}
